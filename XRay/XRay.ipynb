{
  "cells": [
    {
      "cell_type": "code",
      "execution_count": 1,
      "metadata": {
        "colab": {
          "base_uri": "https://localhost:8080/"
        },
        "id": "1TPV79Glm9Lt",
        "outputId": "77806f61-efe1-49ba-b4d9-0ab5c306276b"
      },
      "outputs": [
        {
          "output_type": "stream",
          "name": "stdout",
          "text": [
            "Drive already mounted at /content/drive; to attempt to forcibly remount, call drive.mount(\"/content/drive\", force_remount=True).\n"
          ]
        }
      ],
      "source": [
        "from google.colab import drive\n",
        "drive.mount('/content/drive')"
      ]
    },
    {
      "cell_type": "code",
      "execution_count": 2,
      "metadata": {
        "id": "XQRz8rtenXzE"
      },
      "outputs": [],
      "source": [
        "import matplotlib.pyplot as plt\n",
        "import numpy as np\n",
        "import os\n",
        "from sklearn.metrics import classification_report\n",
        "import tensorflow as tf"
      ]
    },
    {
      "cell_type": "code",
      "execution_count": 3,
      "metadata": {
        "id": "TAmudn-dvO3U"
      },
      "outputs": [],
      "source": [
        "data_dir = '/content/drive/My Drive/XRay'"
      ]
    },
    {
      "cell_type": "code",
      "execution_count": 4,
      "metadata": {
        "colab": {
          "base_uri": "https://localhost:8080/"
        },
        "id": "ktJ87QwYvcQX",
        "outputId": "12d545b9-e15c-4e49-b2dd-4eba65505797"
      },
      "outputs": [
        {
          "output_type": "stream",
          "name": "stdout",
          "text": [
            "Found 3101 files belonging to 3 classes.\n",
            "Using 2481 files for training.\n",
            "Found 3101 files belonging to 3 classes.\n",
            "Using 620 files for validation.\n"
          ]
        }
      ],
      "source": [
        "# Splitting Data Into Training and Validation with 80:20 ratio\n",
        "train_ds = tf.keras.preprocessing.image_dataset_from_directory(\n",
        "    data_dir,\n",
        "    validation_split=0.2,\n",
        "    subset='training',\n",
        "    seed=100 #to randomize\n",
        ")\n",
        "\n",
        "validation_ds = tf.keras.preprocessing.image_dataset_from_directory(\n",
        "    data_dir,\n",
        "    validation_split=0.2,\n",
        "    subset='validation',\n",
        "    seed=100 #to randomize\n",
        ")"
      ]
    },
    {
      "cell_type": "code",
      "execution_count": 5,
      "metadata": {
        "colab": {
          "base_uri": "https://localhost:8080/"
        },
        "id": "PI-ETlpHvgqJ",
        "outputId": "b32d8375-6fbd-4b63-8bb1-15e59ec80f82"
      },
      "outputs": [
        {
          "output_type": "stream",
          "name": "stdout",
          "text": [
            "['NORMAL', 'PNEUMONIA', 'TURBERCULOSIS']\n"
          ]
        }
      ],
      "source": [
        "class_names = train_ds.class_names\n",
        "print(class_names)"
      ]
    },
    {
      "cell_type": "code",
      "execution_count": 6,
      "metadata": {
        "id": "39GGHIo_v8fB"
      },
      "outputs": [],
      "source": [
        "input_shape = (256,256,3)\n",
        "base_model = tf.keras.applications.ResNet50V2(include_top=False, input_shape=input_shape)\n",
        "base_model.trainable = True"
      ]
    },
    {
      "cell_type": "code",
      "execution_count": 7,
      "metadata": {
        "id": "YDkWhJqJwLRP"
      },
      "outputs": [],
      "source": [
        "#Fine tuning\n",
        "tuning_layer_name = 'conv5_block1_preact_bn'\n",
        "tuning_layer = base_model.get_layer(tuning_layer_name)\n",
        "tuning_index = base_model.layers.index(tuning_layer)\n",
        "\n",
        "for layer in base_model.layers[:tuning_index]:\n",
        "    layer.trainable =  False"
      ]
    },
    {
      "cell_type": "code",
      "execution_count": 8,
      "metadata": {
        "id": "WSNSuAY_wRR7"
      },
      "outputs": [],
      "source": [
        "data_augmentation = tf.keras.Sequential([\n",
        "    tf.keras.layers.experimental.preprocessing.Rescaling(1./127.5, offset= -1), \n",
        "    tf.keras.layers.experimental.preprocessing.RandomFlip(\"horizontal_and_vertical\"),\n",
        "    tf.keras.layers.experimental.preprocessing.RandomRotation(0.2),\n",
        "    tf.keras.layers.experimental.preprocessing.RandomZoom(0.2)\n",
        "], name='data_augmentation')"
      ]
    },
    {
      "cell_type": "code",
      "execution_count": 9,
      "metadata": {
        "id": "rYwLq9LxwVLD"
      },
      "outputs": [],
      "source": [
        "model = tf.keras.Sequential([\n",
        "    data_augmentation,\n",
        "    base_model,\n",
        "    tf.keras.layers.GlobalAveragePooling2D(),\n",
        "    tf.keras.layers.Dense(3, activation='softmax')\n",
        "])\n",
        "\n",
        "learning_rate = 0.001\n",
        "model.compile(\n",
        "    loss='sparse_categorical_crossentropy',\n",
        "    optimizer=tf.keras.optimizers.Adam(learning_rate=learning_rate),\n",
        "    metrics=['accuracy']\n",
        ")"
      ]
    },
    {
      "cell_type": "code",
      "execution_count": 16,
      "metadata": {
        "colab": {
          "base_uri": "https://localhost:8080/"
        },
        "id": "3JgwsvQdwXvw",
        "outputId": "78cdd107-adba-4d08-c8b6-ba33e7eedf83"
      },
      "outputs": [
        {
          "output_type": "stream",
          "name": "stdout",
          "text": [
            "Epoch 1/20\n",
            "78/78 [==============================] - 26s 304ms/step - loss: 0.0972 - accuracy: 0.9653 - val_loss: 0.6836 - val_accuracy: 0.8032\n",
            "Epoch 2/20\n",
            "78/78 [==============================] - 25s 301ms/step - loss: 0.0768 - accuracy: 0.9682 - val_loss: 0.1014 - val_accuracy: 0.9726\n",
            "Epoch 3/20\n",
            "78/78 [==============================] - 25s 303ms/step - loss: 0.0713 - accuracy: 0.9754 - val_loss: 0.0921 - val_accuracy: 0.9710\n",
            "Epoch 4/20\n",
            "78/78 [==============================] - 25s 303ms/step - loss: 0.0598 - accuracy: 0.9750 - val_loss: 0.1336 - val_accuracy: 0.9500\n",
            "Epoch 5/20\n",
            "78/78 [==============================] - 25s 301ms/step - loss: 0.0765 - accuracy: 0.9722 - val_loss: 0.1872 - val_accuracy: 0.9419\n",
            "Epoch 6/20\n",
            "78/78 [==============================] - 25s 302ms/step - loss: 0.0718 - accuracy: 0.9774 - val_loss: 0.2324 - val_accuracy: 0.9177\n",
            "Epoch 7/20\n",
            "78/78 [==============================] - 25s 301ms/step - loss: 0.0535 - accuracy: 0.9811 - val_loss: 0.1138 - val_accuracy: 0.9597\n",
            "Epoch 8/20\n",
            "78/78 [==============================] - 25s 300ms/step - loss: 0.0586 - accuracy: 0.9758 - val_loss: 0.1923 - val_accuracy: 0.9532\n",
            "Epoch 9/20\n",
            "78/78 [==============================] - 25s 303ms/step - loss: 0.0445 - accuracy: 0.9827 - val_loss: 0.1237 - val_accuracy: 0.9645\n",
            "Epoch 10/20\n",
            "78/78 [==============================] - 25s 302ms/step - loss: 0.0607 - accuracy: 0.9750 - val_loss: 0.1152 - val_accuracy: 0.9581\n",
            "Epoch 11/20\n",
            "78/78 [==============================] - 25s 301ms/step - loss: 0.0596 - accuracy: 0.9794 - val_loss: 0.1302 - val_accuracy: 0.9532\n",
            "Epoch 12/20\n",
            "78/78 [==============================] - 25s 303ms/step - loss: 0.0682 - accuracy: 0.9746 - val_loss: 0.2161 - val_accuracy: 0.9419\n",
            "Epoch 13/20\n",
            "78/78 [==============================] - 25s 301ms/step - loss: 0.0631 - accuracy: 0.9762 - val_loss: 0.2078 - val_accuracy: 0.9548\n",
            "Epoch 14/20\n",
            "78/78 [==============================] - 25s 301ms/step - loss: 0.0549 - accuracy: 0.9798 - val_loss: 0.1530 - val_accuracy: 0.9581\n",
            "Epoch 15/20\n",
            "78/78 [==============================] - 25s 302ms/step - loss: 0.0548 - accuracy: 0.9778 - val_loss: 0.1545 - val_accuracy: 0.9645\n",
            "Epoch 16/20\n",
            "78/78 [==============================] - 25s 299ms/step - loss: 0.0475 - accuracy: 0.9827 - val_loss: 0.3307 - val_accuracy: 0.9113\n",
            "Epoch 17/20\n",
            "78/78 [==============================] - 25s 303ms/step - loss: 0.0475 - accuracy: 0.9815 - val_loss: 0.3046 - val_accuracy: 0.9371\n",
            "Epoch 18/20\n",
            "78/78 [==============================] - 25s 300ms/step - loss: 0.0481 - accuracy: 0.9835 - val_loss: 0.4364 - val_accuracy: 0.8774\n",
            "Epoch 19/20\n",
            "78/78 [==============================] - 25s 302ms/step - loss: 0.0503 - accuracy: 0.9790 - val_loss: 0.1171 - val_accuracy: 0.9726\n",
            "Epoch 20/20\n",
            "78/78 [==============================] - 25s 299ms/step - loss: 0.0454 - accuracy: 0.9827 - val_loss: 0.0752 - val_accuracy: 0.9694\n"
          ]
        }
      ],
      "source": [
        "history = model.fit(\n",
        "    train_ds,\n",
        "    validation_data=validation_ds,\n",
        "    epochs=20\n",
        ")"
      ]
    },
    {
      "cell_type": "code",
      "execution_count": 18,
      "metadata": {
        "id": "znE3OXHeHXrS"
      },
      "outputs": [],
      "source": [
        "model.save('/content/drive/My Drive/XRay/SavedModel/')"
      ]
    },
    {
      "cell_type": "code",
      "execution_count": 19,
      "metadata": {
        "id": "qeS0mvN6HRFL",
        "colab": {
          "base_uri": "https://localhost:8080/"
        },
        "outputId": "f46d9c33-5e7e-4d6b-b0ca-3aa15fa0ef51"
      },
      "outputs": [
        {
          "output_type": "stream",
          "name": "stdout",
          "text": [
            "20/20 [==============================] - 5s 181ms/step - loss: 0.0752 - accuracy: 0.9694\n",
            "Test accuracy : 0.9693548679351807\n",
            "Test loss: 0.07522498071193695\n"
          ]
        }
      ],
      "source": [
        "loss, accuracy = model.evaluate(validation_ds)\n",
        "print('Test accuracy :', accuracy)\n",
        "print('Test loss:', loss)"
      ]
    },
    {
      "cell_type": "code",
      "execution_count": 20,
      "metadata": {
        "id": "hMOtXf2S3Z2A",
        "colab": {
          "base_uri": "https://localhost:8080/",
          "height": 513
        },
        "outputId": "320483c9-8519-488b-ee09-1403c7161fda"
      },
      "outputs": [
        {
          "output_type": "display_data",
          "data": {
            "text/plain": [
              "<Figure size 576x576 with 2 Axes>"
            ],
            "image/png": "[encoded data removed]"
          },
          "metadata": {
            "needs_background": "light"
          }
        }
      ],
      "source": [
        "acc = history.history['accuracy']\n",
        "val_acc = history.history['val_accuracy']\n",
        "\n",
        "loss = history.history['loss']\n",
        "val_loss = history.history['val_loss']\n",
        "\n",
        "plt.figure(figsize=(8, 8))\n",
        "plt.subplot(2, 1, 1)\n",
        "plt.plot(acc, label='Training Accuracy')\n",
        "plt.plot(val_acc, label='Validation Accuracy')\n",
        "plt.legend(loc='lower right')\n",
        "plt.ylabel('Accuracy')\n",
        "plt.ylim([min(plt.ylim()),1])\n",
        "plt.title('Training and Validation Accuracy')\n",
        "\n",
        "plt.subplot(2, 1, 2)\n",
        "plt.plot(loss, label='Training Loss')\n",
        "plt.plot(val_loss, label='Validation Loss')\n",
        "plt.legend(loc='upper right')\n",
        "plt.ylabel('Cross Entropy')\n",
        "plt.ylim([0,1.0])\n",
        "plt.title('Training and Validation Loss')\n",
        "plt.xlabel('epoch')\n",
        "plt.show()"
      ]
    }
  ],
  "metadata": {
    "accelerator": "GPU",
    "colab": {
      "collapsed_sections": [],
      "name": "XRay.ipynb",
      "provenance": []
    },
    "gpuClass": "standard",
    "kernelspec": {
      "display_name": "Python 3",
      "name": "python3"
    },
    "language_info": {
      "name": "python"
    }
  },
  "nbformat": 4,
  "nbformat_minor": 0
}