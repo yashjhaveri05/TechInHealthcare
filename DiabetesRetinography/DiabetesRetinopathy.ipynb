{
  "nbformat": 4,
  "nbformat_minor": 0,
  "metadata": {
    "colab": {
      "provenance": [],
      "collapsed_sections": []
    },
    "kernelspec": {
      "name": "python3",
      "display_name": "Python 3"
    },
    "language_info": {
      "name": "python"
    },
    "accelerator": "GPU",
    "gpuClass": "standard"
  },
  "cells": [
    {
      "cell_type": "code",
      "execution_count": null,
      "metadata": {
        "id": "tIBKdh7ETIUT",
        "colab": {
          "base_uri": "https://localhost:8080/"
        },
        "outputId": "e1f490ad-aeff-43d3-b7f7-45de32ad3799"
      },
      "outputs": [
        {
          "output_type": "stream",
          "name": "stdout",
          "text": [
            "Drive already mounted at /content/drive; to attempt to forcibly remount, call drive.mount(\"/content/drive\", force_remount=True).\n"
          ]
        }
      ],
      "source": [
        "from google.colab import drive\n",
        "drive.mount('/content/drive')"
      ]
    },
    {
      "cell_type": "code",
      "source": [
        "!pip install -q kaggle\n",
        "\n",
        "!mkdir -p ~/.kaggle\n",
        "!cp kaggle.json ~/.kaggle/\n",
        "\n",
        "!chmod 600 ~/.kaggle/kaggle.json\n",
        "\n",
        "!kaggle datasets download --force -d tanlikesmath/diabetic-retinopathy-resized"
      ],
      "metadata": {
        "colab": {
          "base_uri": "https://localhost:8080/"
        },
        "id": "CvuMkmZ8TNL4",
        "outputId": "c31643c9-f7cb-4cf3-93ef-21cfa8f80ad8"
      },
      "execution_count": null,
      "outputs": [
        {
          "output_type": "stream",
          "name": "stdout",
          "text": [
            "Downloading diabetic-retinopathy-resized.zip to /content\n",
            "100% 7.24G/7.25G [00:38<00:00, 278MB/s]\n",
            "100% 7.25G/7.25G [00:38<00:00, 201MB/s]\n"
          ]
        }
      ]
    },
    {
      "cell_type": "code",
      "source": [
        "import os\n",
        "import pandas as pd \n",
        "import numpy as np\n",
        "import tensorflow as tf\n",
        "import matplotlib.pyplot as plt\n",
        "from glob import glob\n",
        "from keras.preprocessing.image import ImageDataGenerator\n",
        "from sklearn.model_selection import train_test_split\n",
        "from zipfile import ZipFile as z\n",
        "import cv2"
      ],
      "metadata": {
        "id": "6jAdMsuftw8K"
      },
      "execution_count": null,
      "outputs": []
    },
    {
      "cell_type": "code",
      "source": [
        "with z(\"diabetic-retinopathy-resized.zip\", 'r') as zi:\n",
        "  zi.extractall()"
      ],
      "metadata": {
        "id": "ZFcq8mWuUHAq"
      },
      "execution_count": null,
      "outputs": []
    },
    {
      "cell_type": "code",
      "source": [
        "data = \"/content/resized_train_cropped/resized_train_cropped\"\n",
        "df = pd.read_csv(\"/content/trainLabels.csv\") \n",
        "df['name'] = [i+\".jpeg\" for i in df['image'].values]\n",
        "df.head()"
      ],
      "metadata": {
        "colab": {
          "base_uri": "https://localhost:8080/",
          "height": 206
        },
        "id": "8PyP4zgHVvbN",
        "outputId": "e70ddf17-c533-42c3-bbac-db9224fee225"
      },
      "execution_count": null,
      "outputs": [
        {
          "output_type": "execute_result",
          "data": {
            "text/plain": [
              "      image  level           name\n",
              "0   10_left      0   10_left.jpeg\n",
              "1  10_right      0  10_right.jpeg\n",
              "2   13_left      0   13_left.jpeg\n",
              "3  13_right      0  13_right.jpeg\n",
              "4   15_left      1   15_left.jpeg"
            ],
            "text/html": [
              "\n",
              "  <div id=\"df-e30e0dad-2a02-47cc-a9cf-2e60d797cc68\">\n",
              "    <div class=\"colab-df-container\">\n",
              "      <div>\n",
              "<style scoped>\n",
              "    .dataframe tbody tr th:only-of-type {\n",
              "        vertical-align: middle;\n",
              "    }\n",
              "\n",
              "    .dataframe tbody tr th {\n",
              "        vertical-align: top;\n",
              "    }\n",
              "\n",
              "    .dataframe thead th {\n",
              "        text-align: right;\n",
              "    }\n",
              "</style>\n",
              "<table border=\"1\" class=\"dataframe\">\n",
              "  <thead>\n",
              "    <tr style=\"text-align: right;\">\n",
              "      <th></th>\n",
              "      <th>image</th>\n",
              "      <th>level</th>\n",
              "      <th>name</th>\n",
              "    </tr>\n",
              "  </thead>\n",
              "  <tbody>\n",
              "    <tr>\n",
              "      <th>0</th>\n",
              "      <td>10_left</td>\n",
              "      <td>0</td>\n",
              "      <td>10_left.jpeg</td>\n",
              "    </tr>\n",
              "    <tr>\n",
              "      <th>1</th>\n",
              "      <td>10_right</td>\n",
              "      <td>0</td>\n",
              "      <td>10_right.jpeg</td>\n",
              "    </tr>\n",
              "    <tr>\n",
              "      <th>2</th>\n",
              "      <td>13_left</td>\n",
              "      <td>0</td>\n",
              "      <td>13_left.jpeg</td>\n",
              "    </tr>\n",
              "    <tr>\n",
              "      <th>3</th>\n",
              "      <td>13_right</td>\n",
              "      <td>0</td>\n",
              "      <td>13_right.jpeg</td>\n",
              "    </tr>\n",
              "    <tr>\n",
              "      <th>4</th>\n",
              "      <td>15_left</td>\n",
              "      <td>1</td>\n",
              "      <td>15_left.jpeg</td>\n",
              "    </tr>\n",
              "  </tbody>\n",
              "</table>\n",
              "</div>\n",
              "      <button class=\"colab-df-convert\" onclick=\"convertToInteractive('df-e30e0dad-2a02-47cc-a9cf-2e60d797cc68')\"\n",
              "              title=\"Convert this dataframe to an interactive table.\"\n",
              "              style=\"display:none;\">\n",
              "        \n",
              "  <svg xmlns=\"http://www.w3.org/2000/svg\" height=\"24px\"viewBox=\"0 0 24 24\"\n",
              "       width=\"24px\">\n",
              "    <path d=\"M0 0h24v24H0V0z\" fill=\"none\"/>\n",
              "    <path d=\"M18.56 5.44l.94 2.06.94-2.06 2.06-.94-2.06-.94-.94-2.06-.94 2.06-2.06.94zm-11 1L8.5 8.5l.94-2.06 2.06-.94-2.06-.94L8.5 2.5l-.94 2.06-2.06.94zm10 10l.94 2.06.94-2.06 2.06-.94-2.06-.94-.94-2.06-.94 2.06-2.06.94z\"/><path d=\"M17.41 7.96l-1.37-1.37c-.4-.4-.92-.59-1.43-.59-.52 0-1.04.2-1.43.59L10.3 9.45l-7.72 7.72c-.78.78-.78 2.05 0 2.83L4 21.41c.39.39.9.59 1.41.59.51 0 1.02-.2 1.41-.59l7.78-7.78 2.81-2.81c.8-.78.8-2.07 0-2.86zM5.41 20L4 18.59l7.72-7.72 1.47 1.35L5.41 20z\"/>\n",
              "  </svg>\n",
              "      </button>\n",
              "      \n",
              "  <style>\n",
              "    .colab-df-container {\n",
              "      display:flex;\n",
              "      flex-wrap:wrap;\n",
              "      gap: 12px;\n",
              "    }\n",
              "\n",
              "    .colab-df-convert {\n",
              "      background-color: #E8F0FE;\n",
              "      border: none;\n",
              "      border-radius: 50%;\n",
              "      cursor: pointer;\n",
              "      display: none;\n",
              "      fill: #1967D2;\n",
              "      height: 32px;\n",
              "      padding: 0 0 0 0;\n",
              "      width: 32px;\n",
              "    }\n",
              "\n",
              "    .colab-df-convert:hover {\n",
              "      background-color: #E2EBFA;\n",
              "      box-shadow: 0px 1px 2px rgba(60, 64, 67, 0.3), 0px 1px 3px 1px rgba(60, 64, 67, 0.15);\n",
              "      fill: #174EA6;\n",
              "    }\n",
              "\n",
              "    [theme=dark] .colab-df-convert {\n",
              "      background-color: #3B4455;\n",
              "      fill: #D2E3FC;\n",
              "    }\n",
              "\n",
              "    [theme=dark] .colab-df-convert:hover {\n",
              "      background-color: #434B5C;\n",
              "      box-shadow: 0px 1px 3px 1px rgba(0, 0, 0, 0.15);\n",
              "      filter: drop-shadow(0px 1px 2px rgba(0, 0, 0, 0.3));\n",
              "      fill: #FFFFFF;\n",
              "    }\n",
              "  </style>\n",
              "\n",
              "      <script>\n",
              "        const buttonEl =\n",
              "          document.querySelector('#df-e30e0dad-2a02-47cc-a9cf-2e60d797cc68 button.colab-df-convert');\n",
              "        buttonEl.style.display =\n",
              "          google.colab.kernel.accessAllowed ? 'block' : 'none';\n",
              "\n",
              "        async function convertToInteractive(key) {\n",
              "          const element = document.querySelector('#df-e30e0dad-2a02-47cc-a9cf-2e60d797cc68');\n",
              "          const dataTable =\n",
              "            await google.colab.kernel.invokeFunction('convertToInteractive',\n",
              "                                                     [key], {});\n",
              "          if (!dataTable) return;\n",
              "\n",
              "          const docLinkHtml = 'Like what you see? Visit the ' +\n",
              "            '<a target=\"_blank\" href=https://colab.research.google.com/notebooks/data_table.ipynb>data table notebook</a>'\n",
              "            + ' to learn more about interactive tables.';\n",
              "          element.innerHTML = '';\n",
              "          dataTable['output_type'] = 'display_data';\n",
              "          await google.colab.output.renderOutput(dataTable, element);\n",
              "          const docLink = document.createElement('div');\n",
              "          docLink.innerHTML = docLinkHtml;\n",
              "          element.appendChild(docLink);\n",
              "        }\n",
              "      </script>\n",
              "    </div>\n",
              "  </div>\n",
              "  "
            ]
          },
          "metadata": {},
          "execution_count": 2
        }
      ]
    },
    {
      "cell_type": "code",
      "source": [
        "df[\"level\"].value_counts()"
      ],
      "metadata": {
        "colab": {
          "base_uri": "https://localhost:8080/"
        },
        "id": "FUErw9NasCK0",
        "outputId": "08a60395-8a58-487b-ba55-e931abe34958"
      },
      "execution_count": null,
      "outputs": [
        {
          "output_type": "execute_result",
          "data": {
            "text/plain": [
              "0    25810\n",
              "2     5292\n",
              "1     2443\n",
              "3      873\n",
              "4      708\n",
              "Name: level, dtype: int64"
            ]
          },
          "metadata": {},
          "execution_count": 3
        }
      ]
    },
    {
      "cell_type": "code",
      "source": [
        "train, val = train_test_split(df, test_size=0.15)"
      ],
      "metadata": {
        "id": "hxRUpC_HVycX"
      },
      "execution_count": null,
      "outputs": []
    },
    {
      "cell_type": "code",
      "source": [
        "# for faster training of model, we only consider 5331/29842 images for training and 859/5266 images for validation.However, the model could be trained over the entire dataset\n",
        "train = train[:10000]\n",
        "val = val[:1000]\n",
        "\n",
        "print(train[\"level\"].value_counts())\n",
        "print(val[\"level\"].value_counts())"
      ],
      "metadata": {
        "id": "dblp6FsnV0Zv",
        "colab": {
          "base_uri": "https://localhost:8080/"
        },
        "outputId": "508aa8d8-cae6-41c5-c49e-415be6441049"
      },
      "execution_count": null,
      "outputs": [
        {
          "output_type": "stream",
          "name": "stdout",
          "text": [
            "0    7415\n",
            "2    1492\n",
            "1     656\n",
            "3     233\n",
            "4     204\n",
            "Name: level, dtype: int64\n",
            "0    740\n",
            "2    153\n",
            "1     63\n",
            "3     27\n",
            "4     17\n",
            "Name: level, dtype: int64\n"
          ]
        }
      ]
    },
    {
      "cell_type": "code",
      "source": [
        "def remove_local_color(image):\n",
        "    image = cv2.resize(image, (224, 224))\n",
        "    image = cv2.addWeighted(image, 4, cv2.GaussianBlur( image , (0,0) , 10) , -4 , 128)\n",
        "    return image"
      ],
      "metadata": {
        "id": "3TiHtcuOV1gs"
      },
      "execution_count": null,
      "outputs": []
    },
    {
      "cell_type": "code",
      "source": [
        "data_gen = ImageDataGenerator(rescale=1/255.,\n",
        "                              zoom_range=0.2,\n",
        "                              fill_mode='constant',\n",
        "                              cval=0.,\n",
        "                              horizontal_flip=True,\n",
        "                              vertical_flip=True,\n",
        "                              preprocessing_function=remove_local_color)"
      ],
      "metadata": {
        "id": "xET9YIkmV2WF"
      },
      "execution_count": null,
      "outputs": []
    },
    {
      "cell_type": "code",
      "source": [
        "train_gen = data_gen.flow_from_dataframe(train, data,\n",
        "                                         x_col=\"name\", y_col=\"level\", class_mode=\"raw\",\n",
        "                                         batch_size=128,\n",
        "                                         target_size=(224, 224))\n",
        "val_gen = data_gen.flow_from_dataframe(val, data,\n",
        "                                       x_col=\"name\", y_col=\"level\", class_mode=\"raw\",\n",
        "                                       batch_size=128,\n",
        "                                       target_size=(224, 224))"
      ],
      "metadata": {
        "colab": {
          "base_uri": "https://localhost:8080/"
        },
        "id": "dAQ-08iaV31V",
        "outputId": "1e00a70d-0a41-4ad7-cf0f-32a34b2d4c9b"
      },
      "execution_count": null,
      "outputs": [
        {
          "output_type": "stream",
          "name": "stdout",
          "text": [
            "Found 9993 validated image filenames.\n",
            "Found 1000 validated image filenames.\n"
          ]
        },
        {
          "output_type": "stream",
          "name": "stderr",
          "text": [
            "/usr/local/lib/python3.7/dist-packages/keras_preprocessing/image/dataframe_iterator.py:282: UserWarning: Found 7 invalid image filename(s) in x_col=\"name\". These filename(s) will be ignored.\n",
            "  .format(n_invalid, x_col)\n"
          ]
        }
      ]
    },
    {
      "cell_type": "code",
      "source": [
        "input_shape = (224,224,3)\n",
        "base_model = tf.keras.applications.ResNet50V2(weights='imagenet', include_top=False, input_shape=input_shape)\n",
        "base_model.trainable = True\n",
        "\n",
        "tuning_layer_name = 'conv5_block1_preact_bn'\n",
        "tuning_layer = base_model.get_layer(tuning_layer_name)\n",
        "tuning_index = base_model.layers.index(tuning_layer)\n",
        "\n",
        "for layer in base_model.layers[:tuning_index]:\n",
        "    layer.trainable =  False\n",
        "\n",
        "model = tf.keras.Sequential([\n",
        "    base_model,\n",
        "    tf.keras.layers.GlobalAveragePooling2D(),\n",
        "    tf.keras.layers.BatchNormalization(),\n",
        "    tf.keras.layers.Dropout(0.2),\n",
        "    tf.keras.layers.Dense(1024, activation=\"relu\"),\n",
        "    tf.keras.layers.Dropout(0.1),\n",
        "    tf.keras.layers.Dense(224, activation=\"relu\"),\n",
        "    tf.keras.layers.Dropout(0.1),\n",
        "    tf.keras.layers.Dense(64, activation=\"relu\"),\n",
        "    tf.keras.layers.Dense(5, activation='softmax')\n",
        "])\n",
        "\n",
        "model.compile(\n",
        "    loss='sparse_categorical_crossentropy',\n",
        "    optimizer=tf.keras.optimizers.Adam(),\n",
        "    metrics=['accuracy']\n",
        ")"
      ],
      "metadata": {
        "id": "26FSCy1baBEm"
      },
      "execution_count": null,
      "outputs": []
    },
    {
      "cell_type": "code",
      "source": [
        "history = model.fit(train_gen, validation_data=val_gen, epochs=10)"
      ],
      "metadata": {
        "colab": {
          "base_uri": "https://localhost:8080/"
        },
        "id": "242GRWkdWDqO",
        "outputId": "ac4899cc-a19f-408c-bf02-b9821366e1aa"
      },
      "execution_count": null,
      "outputs": [
        {
          "output_type": "stream",
          "name": "stdout",
          "text": [
            "Epoch 1/10\n",
            "79/79 [==============================] - 325s 4s/step - loss: 0.8717 - accuracy: 0.7314 - val_loss: 2.6718 - val_accuracy: 0.7280\n",
            "Epoch 2/10\n",
            "79/79 [==============================] - 294s 4s/step - loss: 0.7822 - accuracy: 0.7461 - val_loss: 1.3487 - val_accuracy: 0.7270\n",
            "Epoch 3/10\n",
            "79/79 [==============================] - 291s 4s/step - loss: 0.7607 - accuracy: 0.7510 - val_loss: 0.9352 - val_accuracy: 0.6940\n",
            "Epoch 4/10\n",
            "79/79 [==============================] - 291s 4s/step - loss: 0.7390 - accuracy: 0.7572 - val_loss: 1.0088 - val_accuracy: 0.7490\n",
            "Epoch 5/10\n",
            "79/79 [==============================] - 290s 4s/step - loss: 0.7295 - accuracy: 0.7559 - val_loss: 0.8223 - val_accuracy: 0.7400\n",
            "Epoch 6/10\n",
            "79/79 [==============================] - 292s 4s/step - loss: 0.7165 - accuracy: 0.7569 - val_loss: 0.7829 - val_accuracy: 0.7460\n",
            "Epoch 7/10\n",
            "79/79 [==============================] - 291s 4s/step - loss: 0.7086 - accuracy: 0.7635 - val_loss: 0.7796 - val_accuracy: 0.7260\n",
            "Epoch 8/10\n",
            "79/79 [==============================] - 293s 4s/step - loss: 0.6957 - accuracy: 0.7724 - val_loss: 1.3974 - val_accuracy: 0.7550\n",
            "Epoch 9/10\n",
            "79/79 [==============================] - 293s 4s/step - loss: 0.7027 - accuracy: 0.7666 - val_loss: 0.7156 - val_accuracy: 0.7650\n",
            "Epoch 10/10\n",
            "79/79 [==============================] - 300s 4s/step - loss: 0.6855 - accuracy: 0.7722 - val_loss: 0.7380 - val_accuracy: 0.7540\n"
          ]
        }
      ]
    },
    {
      "cell_type": "code",
      "source": [
        "loss, accuracy = model.evaluate(val_gen)\n",
        "print('Test accuracy :', accuracy)\n",
        "print('Test loss:', loss)"
      ],
      "metadata": {
        "id": "JTHwgGXrWFE1",
        "colab": {
          "base_uri": "https://localhost:8080/"
        },
        "outputId": "13f2caf6-edd5-460a-9d63-47267bdea097"
      },
      "execution_count": null,
      "outputs": [
        {
          "output_type": "stream",
          "name": "stdout",
          "text": [
            "8/8 [==============================] - 26s 3s/step - loss: 0.7355 - accuracy: 0.7530\n",
            "Test accuracy : 0.753000020980835\n",
            "Test loss: 0.7355490922927856\n"
          ]
        }
      ]
    },
    {
      "cell_type": "code",
      "source": [
        "acc = history.history['accuracy']\n",
        "val_acc = history.history['val_accuracy']\n",
        "\n",
        "loss = history.history['loss']\n",
        "val_loss = history.history['val_loss']\n",
        "\n",
        "plt.figure(figsize=(8, 8))\n",
        "plt.subplot(2, 1, 1)\n",
        "plt.plot(acc, label='Training Accuracy')\n",
        "plt.plot(val_acc, label='Validation Accuracy')\n",
        "plt.legend(loc='lower right')\n",
        "plt.ylabel('Accuracy')\n",
        "plt.ylim([min(plt.ylim()),1])\n",
        "plt.title('Training and Validation Accuracy')\n",
        "\n",
        "plt.subplot(2, 1, 2)\n",
        "plt.plot(loss, label='Training Loss')\n",
        "plt.plot(val_loss, label='Validation Loss')\n",
        "plt.legend(loc='upper right')\n",
        "plt.ylabel('Cross Entropy')\n",
        "plt.ylim([0,1.0])\n",
        "plt.title('Training and Validation Loss')\n",
        "plt.xlabel('epoch')\n",
        "plt.show()"
      ],
      "metadata": {
        "id": "CqN8BFLbzYzr",
        "colab": {
          "base_uri": "https://localhost:8080/",
          "height": 513
        },
        "outputId": "6de826a8-794b-4b2a-a48d-63549287edda"
      },
      "execution_count": null,
      "outputs": [
        {
          "output_type": "display_data",
          "data": {
            "text/plain": [
              "<Figure size 576x576 with 2 Axes>"
            ],
            "image/png": "[encoded data removed]"
          },
          "metadata": {
            "needs_background": "light"
          }
        }
      ]
    },
    {
      "cell_type": "code",
      "source": [
        "model.save('/content/drive/My Drive/SavedModels/DiabetesRetinography/')"
      ],
      "metadata": {
        "id": "P8UZ4KlNzhlK"
      },
      "execution_count": null,
      "outputs": []
    }
  ]
}